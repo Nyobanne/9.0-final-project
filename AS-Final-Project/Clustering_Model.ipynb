{
 "cells": [
  {
   "cell_type": "markdown",
   "metadata": {},
   "source": [
    "# API food : clustering"
   ]
  },
  {
   "cell_type": "code",
   "execution_count": 1,
   "metadata": {},
   "outputs": [],
   "source": [
    "import getpass\n",
    "import pandas as pd\n",
    "pd.set_option(\"display.max_columns\", 0)"
   ]
  },
  {
   "cell_type": "code",
   "execution_count": 6,
   "metadata": {},
   "outputs": [],
   "source": [
    "import warnings\n",
    "\n",
    "# Suppress all warnings\n",
    "warnings.filterwarnings(\"ignore\")\n"
   ]
  },
  {
   "cell_type": "markdown",
   "metadata": {},
   "source": [
    "### step 4\n",
    "1. input : user types 2 ingredients\n",
    "2. output: app gives 10 proposal recipes\n",
    "3. input: user choses 1 recipe out of the 10 (e.g. \"risotto chicken\")\n",
    "4. output: model proposes a another similar recipe (\"if you liked 'chicken risotto' I recommend you try 'paprika pasta')\n",
    "    MODEL: recipe clustering based on nutrition , number of ingredient, number of steps, taste,  language processing ~"
   ]
  },
  {
   "cell_type": "markdown",
   "metadata": {},
   "source": [
    "# Building model"
   ]
  },
  {
   "cell_type": "markdown",
   "metadata": {},
   "source": [
    "### open recipe df\n"
   ]
  },
  {
   "cell_type": "code",
   "execution_count": 2,
   "metadata": {},
   "outputs": [],
   "source": [
    "recipes_10000=pd.read_csv('spoonacular_recipes_7k.csv') \n"
   ]
  },
  {
   "cell_type": "markdown",
   "metadata": {},
   "source": [
    "## select features"
   ]
  },
  {
   "cell_type": "markdown",
   "metadata": {},
   "source": [
    "## drop columns \n",
    "each of theses drops have been carefully justified, look at other jpy"
   ]
  },
  {
   "cell_type": "code",
   "execution_count": 7,
   "metadata": {},
   "outputs": [],
   "source": [
    "#dropping the columns that wont be used for our analysis\n",
    "#'Very popular' : can be useful as a group but not for clustering\n",
    "drop_list=['sourceName','originalId', 'license','creditsText', 'image','imageType','spoonacularSourceUrl','sourceUrl',\n",
    "           'gaps','cookingMinutes','preparationMinutes','cuisines','occasions','author','diets','sustainable', 'aggregateLikes', \n",
    "           'cheap','readyInMinutes', 'lowFodmap','vegan','instructions']\n",
    "data=recipes_10000.drop(drop_list,axis=1)"
   ]
  },
  {
   "cell_type": "code",
   "execution_count": 8,
   "metadata": {},
   "outputs": [
    {
     "data": {
      "text/html": [
       "<div>\n",
       "<style scoped>\n",
       "    .dataframe tbody tr th:only-of-type {\n",
       "        vertical-align: middle;\n",
       "    }\n",
       "\n",
       "    .dataframe tbody tr th {\n",
       "        vertical-align: top;\n",
       "    }\n",
       "\n",
       "    .dataframe thead th {\n",
       "        text-align: right;\n",
       "    }\n",
       "</style>\n",
       "<table border=\"1\" class=\"dataframe\">\n",
       "  <thead>\n",
       "    <tr style=\"text-align: right;\">\n",
       "      <th></th>\n",
       "      <th>vegetarian</th>\n",
       "      <th>glutenFree</th>\n",
       "      <th>dairyFree</th>\n",
       "      <th>veryHealthy</th>\n",
       "      <th>veryPopular</th>\n",
       "      <th>weightWatcherSmartPoints</th>\n",
       "      <th>healthScore</th>\n",
       "      <th>pricePerServing</th>\n",
       "      <th>extendedIngredients</th>\n",
       "      <th>id</th>\n",
       "      <th>title</th>\n",
       "      <th>servings</th>\n",
       "      <th>summary</th>\n",
       "      <th>dishTypes</th>\n",
       "      <th>analyzedInstructions</th>\n",
       "      <th>spoonacularScore</th>\n",
       "    </tr>\n",
       "  </thead>\n",
       "  <tbody>\n",
       "    <tr>\n",
       "      <th>0</th>\n",
       "      <td>False</td>\n",
       "      <td>False</td>\n",
       "      <td>False</td>\n",
       "      <td>False</td>\n",
       "      <td>False</td>\n",
       "      <td>15</td>\n",
       "      <td>12</td>\n",
       "      <td>121.57</td>\n",
       "      <td>[{'id': 10011355, 'aisle': 'Produce', 'image':...</td>\n",
       "      <td>657031</td>\n",
       "      <td>Potatoes Smothered W/ Egg Sauce (Cariucho)</td>\n",
       "      <td>4</td>\n",
       "      <td>The recipe Potatoes Smothered with Egg Sauce (...</td>\n",
       "      <td>['lunch', 'main course', 'main dish', 'dinner']</td>\n",
       "      <td>[{'name': '', 'steps': [{'number': 1, 'step': ...</td>\n",
       "      <td>59.014149</td>\n",
       "    </tr>\n",
       "    <tr>\n",
       "      <th>1</th>\n",
       "      <td>False</td>\n",
       "      <td>False</td>\n",
       "      <td>False</td>\n",
       "      <td>False</td>\n",
       "      <td>False</td>\n",
       "      <td>13</td>\n",
       "      <td>13</td>\n",
       "      <td>134.03</td>\n",
       "      <td>[{'id': 1230, 'aisle': 'Milk, Eggs, Other Dair...</td>\n",
       "      <td>645732</td>\n",
       "      <td>Grilled Ham and Cheese French Toast For A Quic...</td>\n",
       "      <td>4</td>\n",
       "      <td>The recipe Grilled Ham and Cheese French Toast...</td>\n",
       "      <td>['lunch', 'main course', 'main dish', 'dinner']</td>\n",
       "      <td>[{'name': '', 'steps': [{'number': 1, 'step': ...</td>\n",
       "      <td>60.525078</td>\n",
       "    </tr>\n",
       "    <tr>\n",
       "      <th>2</th>\n",
       "      <td>True</td>\n",
       "      <td>False</td>\n",
       "      <td>False</td>\n",
       "      <td>False</td>\n",
       "      <td>False</td>\n",
       "      <td>8</td>\n",
       "      <td>4</td>\n",
       "      <td>32.37</td>\n",
       "      <td>[{'id': 9040, 'aisle': 'Produce', 'image': 'ba...</td>\n",
       "      <td>637161</td>\n",
       "      <td>Carrot and Banana Snacking Cake</td>\n",
       "      <td>8</td>\n",
       "      <td>Carrot and Banana Snacking Cake might be a goo...</td>\n",
       "      <td>['dessert']</td>\n",
       "      <td>[{'name': '', 'steps': [{'number': 1, 'step': ...</td>\n",
       "      <td>42.399120</td>\n",
       "    </tr>\n",
       "  </tbody>\n",
       "</table>\n",
       "</div>"
      ],
      "text/plain": [
       "   vegetarian  ...  spoonacularScore\n",
       "0       False  ...         59.014149\n",
       "1       False  ...         60.525078\n",
       "2        True  ...         42.399120\n",
       "\n",
       "[3 rows x 16 columns]"
      ]
     },
     "execution_count": 8,
     "metadata": {},
     "output_type": "execute_result"
    }
   ],
   "source": [
    "data.head(3)"
   ]
  },
  {
   "cell_type": "code",
   "execution_count": null,
   "metadata": {
    "scrolled": true
   },
   "outputs": [],
   "source": [
    "data['dishTypes'].value_counts()\n",
    "#KEEP it and transform it\n"
   ]
  },
  {
   "cell_type": "markdown",
   "metadata": {},
   "source": [
    "## transform dishTypes"
   ]
  },
  {
   "cell_type": "code",
   "execution_count": null,
   "metadata": {},
   "outputs": [],
   "source": []
  },
  {
   "cell_type": "markdown",
   "metadata": {},
   "source": [
    "## Clustering"
   ]
  },
  {
   "cell_type": "code",
   "execution_count": 9,
   "metadata": {},
   "outputs": [],
   "source": [
    "X_data = data[['vegetarian','glutenFree','dairyFree','veryHealthy','veryPopular','weightWatcherSmartPoints','healthScore','pricePerServing','spoonacularScore']]"
   ]
  },
  {
   "cell_type": "code",
   "execution_count": 10,
   "metadata": {},
   "outputs": [],
   "source": [
    "## Alternative code to pickle for later\n",
    "from sklearn.preprocessing import StandardScaler\n",
    "scaler = StandardScaler()\n",
    "scaler = scaler.fit(X_data)\n",
    "X_scaled = scaler.transform(X_data)"
   ]
  },
  {
   "cell_type": "code",
   "execution_count": 12,
   "metadata": {},
   "outputs": [
    {
     "data": {
      "text/plain": [
       "Text(0.5, 1.0, 'Elbow Method showing the optimal k')"
      ]
     },
     "execution_count": 12,
     "metadata": {},
     "output_type": "execute_result"
    },
    {
     "data": {
      "image/png": "[encoded data removed]",
      "text/plain": [
       "<Figure size 1600x800 with 1 Axes>"
      ]
     },
     "metadata": {},
     "output_type": "display_data"
    }
   ],
   "source": [
    "from sklearn.cluster import KMeans\n",
    "import numpy as np\n",
    "K = range(2, 20)\n",
    "inertia = []\n",
    "\n",
    "for k in K:\n",
    "    kmeans = KMeans(n_clusters=k, n_init='auto',\n",
    "                    random_state=1234)\n",
    "    kmeans.fit(X_scaled)\n",
    "    inertia.append(kmeans.inertia_)\n",
    "\n",
    "import matplotlib.pyplot as plt\n",
    "%matplotlib inline\n",
    "\n",
    "plt.figure(figsize=(16,8))\n",
    "plt.plot(K, inertia, 'bx-')\n",
    "plt.xlabel('k')\n",
    "plt.ylabel('inertia')\n",
    "plt.xticks(np.arange(min(K), max(K)+1, 1.0))\n",
    "plt.title('Elbow Method showing the optimal k')"
   ]
  },
  {
   "cell_type": "code",
   "execution_count": 13,
   "metadata": {},
   "outputs": [
    {
     "data": {
      "text/plain": [
       "Text(0.5, 1.0, 'Silhouette score large playlist')"
      ]
     },
     "execution_count": 13,
     "metadata": {},
     "output_type": "execute_result"
    },
    {
     "data": {
      "image/png": "[encoded data removed]",
      "text/plain": [
       "<Figure size 1600x800 with 1 Axes>"
      ]
     },
     "metadata": {},
     "output_type": "display_data"
    }
   ],
   "source": [
    "from sklearn.metrics import silhouette_score\n",
    "K = range(2, 20)\n",
    "silhouette = []\n",
    "\n",
    "for k in K:\n",
    "    kmeans = KMeans(n_clusters=k,\n",
    "                    random_state=1234)\n",
    "    kmeans.fit(X_scaled)\n",
    "    silhouette.append(silhouette_score(X_scaled, kmeans.predict(X_scaled)))\n",
    "\n",
    "\n",
    "plt.figure(figsize=(16,8))\n",
    "plt.plot(K, silhouette, 'bx-')\n",
    "plt.xlabel('k')\n",
    "plt.ylabel('silhouette score')\n",
    "plt.xticks(np.arange(min(K), max(K)+1, 1.0))\n",
    "plt.title('Silhouette score ')\n",
    "# I chose 10 k"
   ]
  },
  {
   "cell_type": "code",
   "execution_count": 14,
   "metadata": {},
   "outputs": [
    {
     "name": "stdout",
     "output_type": "stream",
     "text": [
      "21721.276879585526\n"
     ]
    }
   ],
   "source": [
    "#optimal k is 10\n",
    "kmeans = KMeans(n_clusters=10,\n",
    "                init=\"random\",\n",
    "                n_init= 1, \n",
    "                max_iter=10,\n",
    "                tol=0,\n",
    "                random_state=1234)\n",
    "kmeans.fit(X_scaled)\n",
    "print(kmeans.inertia_)"
   ]
  },
  {
   "cell_type": "code",
   "execution_count": 15,
   "metadata": {},
   "outputs": [
    {
     "data": {
      "text/plain": [
       "0    1023\n",
       "1     265\n",
       "2     549\n",
       "3     605\n",
       "4    1493\n",
       "5     753\n",
       "6     640\n",
       "7     906\n",
       "8     237\n",
       "9     829\n",
       "Name: count, dtype: int64"
      ]
     },
     "execution_count": 15,
     "metadata": {},
     "output_type": "execute_result"
    }
   ],
   "source": [
    "clusters = kmeans.predict(X_scaled)\n",
    "# Check the size of the clusters\n",
    "pd.Series(clusters).value_counts().sort_index()\n",
    "#clusters are not too imbalanced"
   ]
  },
  {
   "cell_type": "code",
   "execution_count": 16,
   "metadata": {
    "scrolled": true
   },
   "outputs": [
    {
     "data": {
      "text/html": [
       "<div>\n",
       "<style scoped>\n",
       "    .dataframe tbody tr th:only-of-type {\n",
       "        vertical-align: middle;\n",
       "    }\n",
       "\n",
       "    .dataframe tbody tr th {\n",
       "        vertical-align: top;\n",
       "    }\n",
       "\n",
       "    .dataframe thead th {\n",
       "        text-align: right;\n",
       "    }\n",
       "</style>\n",
       "<table border=\"1\" class=\"dataframe\">\n",
       "  <thead>\n",
       "    <tr style=\"text-align: right;\">\n",
       "      <th></th>\n",
       "      <th>vegetarian</th>\n",
       "      <th>glutenFree</th>\n",
       "      <th>dairyFree</th>\n",
       "      <th>veryHealthy</th>\n",
       "      <th>veryPopular</th>\n",
       "      <th>weightWatcherSmartPoints</th>\n",
       "      <th>healthScore</th>\n",
       "      <th>pricePerServing</th>\n",
       "      <th>extendedIngredients</th>\n",
       "      <th>id</th>\n",
       "      <th>title</th>\n",
       "      <th>servings</th>\n",
       "      <th>summary</th>\n",
       "      <th>dishTypes</th>\n",
       "      <th>analyzedInstructions</th>\n",
       "      <th>spoonacularScore</th>\n",
       "      <th>cluster</th>\n",
       "    </tr>\n",
       "  </thead>\n",
       "  <tbody>\n",
       "    <tr>\n",
       "      <th>0</th>\n",
       "      <td>False</td>\n",
       "      <td>False</td>\n",
       "      <td>False</td>\n",
       "      <td>False</td>\n",
       "      <td>False</td>\n",
       "      <td>15</td>\n",
       "      <td>12</td>\n",
       "      <td>121.57</td>\n",
       "      <td>[{'id': 10011355, 'aisle': 'Produce', 'image':...</td>\n",
       "      <td>657031</td>\n",
       "      <td>Potatoes Smothered W/ Egg Sauce (Cariucho)</td>\n",
       "      <td>4</td>\n",
       "      <td>The recipe Potatoes Smothered with Egg Sauce (...</td>\n",
       "      <td>['lunch', 'main course', 'main dish', 'dinner']</td>\n",
       "      <td>[{'name': '', 'steps': [{'number': 1, 'step': ...</td>\n",
       "      <td>59.014149</td>\n",
       "      <td>0</td>\n",
       "    </tr>\n",
       "    <tr>\n",
       "      <th>1</th>\n",
       "      <td>False</td>\n",
       "      <td>False</td>\n",
       "      <td>False</td>\n",
       "      <td>False</td>\n",
       "      <td>False</td>\n",
       "      <td>13</td>\n",
       "      <td>13</td>\n",
       "      <td>134.03</td>\n",
       "      <td>[{'id': 1230, 'aisle': 'Milk, Eggs, Other Dair...</td>\n",
       "      <td>645732</td>\n",
       "      <td>Grilled Ham and Cheese French Toast For A Quic...</td>\n",
       "      <td>4</td>\n",
       "      <td>The recipe Grilled Ham and Cheese French Toast...</td>\n",
       "      <td>['lunch', 'main course', 'main dish', 'dinner']</td>\n",
       "      <td>[{'name': '', 'steps': [{'number': 1, 'step': ...</td>\n",
       "      <td>60.525078</td>\n",
       "      <td>0</td>\n",
       "    </tr>\n",
       "    <tr>\n",
       "      <th>2</th>\n",
       "      <td>True</td>\n",
       "      <td>False</td>\n",
       "      <td>False</td>\n",
       "      <td>False</td>\n",
       "      <td>False</td>\n",
       "      <td>8</td>\n",
       "      <td>4</td>\n",
       "      <td>32.37</td>\n",
       "      <td>[{'id': 9040, 'aisle': 'Produce', 'image': 'ba...</td>\n",
       "      <td>637161</td>\n",
       "      <td>Carrot and Banana Snacking Cake</td>\n",
       "      <td>8</td>\n",
       "      <td>Carrot and Banana Snacking Cake might be a goo...</td>\n",
       "      <td>['dessert']</td>\n",
       "      <td>[{'name': '', 'steps': [{'number': 1, 'step': ...</td>\n",
       "      <td>42.399120</td>\n",
       "      <td>4</td>\n",
       "    </tr>\n",
       "    <tr>\n",
       "      <th>3</th>\n",
       "      <td>False</td>\n",
       "      <td>False</td>\n",
       "      <td>False</td>\n",
       "      <td>False</td>\n",
       "      <td>False</td>\n",
       "      <td>27</td>\n",
       "      <td>8</td>\n",
       "      <td>107.36</td>\n",
       "      <td>[{'id': 9003, 'aisle': 'Produce', 'image': 'ap...</td>\n",
       "      <td>633428</td>\n",
       "      <td>Baked Apple Pancake</td>\n",
       "      <td>4</td>\n",
       "      <td>You can never have too many breakfast recipes,...</td>\n",
       "      <td>['morning meal', 'brunch', 'breakfast']</td>\n",
       "      <td>[{'name': '', 'steps': [{'number': 1, 'step': ...</td>\n",
       "      <td>51.477009</td>\n",
       "      <td>3</td>\n",
       "    </tr>\n",
       "    <tr>\n",
       "      <th>4</th>\n",
       "      <td>False</td>\n",
       "      <td>True</td>\n",
       "      <td>True</td>\n",
       "      <td>False</td>\n",
       "      <td>False</td>\n",
       "      <td>17</td>\n",
       "      <td>16</td>\n",
       "      <td>119.98</td>\n",
       "      <td>[{'id': 1005091, 'aisle': 'Meat', 'image': 'ch...</td>\n",
       "      <td>663824</td>\n",
       "      <td>Trinidadian Chicken Potato Curry</td>\n",
       "      <td>4</td>\n",
       "      <td>If you have about &lt;b&gt;45 minutes&lt;/b&gt; to spend i...</td>\n",
       "      <td>['lunch', 'main course', 'main dish', 'dinner']</td>\n",
       "      <td>[{'name': '', 'steps': [{'number': 1, 'step': ...</td>\n",
       "      <td>70.604698</td>\n",
       "      <td>9</td>\n",
       "    </tr>\n",
       "    <tr>\n",
       "      <th>...</th>\n",
       "      <td>...</td>\n",
       "      <td>...</td>\n",
       "      <td>...</td>\n",
       "      <td>...</td>\n",
       "      <td>...</td>\n",
       "      <td>...</td>\n",
       "      <td>...</td>\n",
       "      <td>...</td>\n",
       "      <td>...</td>\n",
       "      <td>...</td>\n",
       "      <td>...</td>\n",
       "      <td>...</td>\n",
       "      <td>...</td>\n",
       "      <td>...</td>\n",
       "      <td>...</td>\n",
       "      <td>...</td>\n",
       "      <td>...</td>\n",
       "    </tr>\n",
       "    <tr>\n",
       "      <th>7295</th>\n",
       "      <td>False</td>\n",
       "      <td>False</td>\n",
       "      <td>True</td>\n",
       "      <td>False</td>\n",
       "      <td>False</td>\n",
       "      <td>5</td>\n",
       "      <td>0</td>\n",
       "      <td>28.15</td>\n",
       "      <td>[{'id': 1039003, 'aisle': 'Produce', 'image': ...</td>\n",
       "      <td>632573</td>\n",
       "      <td>Apple Pie Bars</td>\n",
       "      <td>24</td>\n",
       "      <td>The recipe Apple Pie Bars could satisfy your A...</td>\n",
       "      <td>['dessert']</td>\n",
       "      <td>[{'name': '', 'steps': [{'number': 1, 'step': ...</td>\n",
       "      <td>10.932211</td>\n",
       "      <td>4</td>\n",
       "    </tr>\n",
       "    <tr>\n",
       "      <th>7296</th>\n",
       "      <td>False</td>\n",
       "      <td>True</td>\n",
       "      <td>False</td>\n",
       "      <td>False</td>\n",
       "      <td>False</td>\n",
       "      <td>24</td>\n",
       "      <td>12</td>\n",
       "      <td>220.34</td>\n",
       "      <td>[{'id': 2048, 'aisle': 'Oil, Vinegar, Salad Dr...</td>\n",
       "      <td>633372</td>\n",
       "      <td>Bacon-Wrapped Meatloaf</td>\n",
       "      <td>6</td>\n",
       "      <td>Bacon-Wrapped Meatloaf might be just the main ...</td>\n",
       "      <td>['lunch', 'main course', 'main dish', 'dinner']</td>\n",
       "      <td>[{'name': '', 'steps': [{'number': 1, 'step': ...</td>\n",
       "      <td>63.994400</td>\n",
       "      <td>5</td>\n",
       "    </tr>\n",
       "    <tr>\n",
       "      <th>7297</th>\n",
       "      <td>False</td>\n",
       "      <td>True</td>\n",
       "      <td>False</td>\n",
       "      <td>False</td>\n",
       "      <td>False</td>\n",
       "      <td>12</td>\n",
       "      <td>1</td>\n",
       "      <td>110.62</td>\n",
       "      <td>[{'id': 1123, 'aisle': 'Milk, Eggs, Other Dair...</td>\n",
       "      <td>642413</td>\n",
       "      <td>English Berry Trifle</td>\n",
       "      <td>16</td>\n",
       "      <td>English Berry Trifle requires roughly &lt;b&gt;5 hou...</td>\n",
       "      <td>['dessert']</td>\n",
       "      <td>[{'name': 'For curd', 'steps': [{'number': 1, ...</td>\n",
       "      <td>28.327370</td>\n",
       "      <td>6</td>\n",
       "    </tr>\n",
       "    <tr>\n",
       "      <th>7298</th>\n",
       "      <td>False</td>\n",
       "      <td>True</td>\n",
       "      <td>True</td>\n",
       "      <td>False</td>\n",
       "      <td>False</td>\n",
       "      <td>8</td>\n",
       "      <td>32</td>\n",
       "      <td>259.00</td>\n",
       "      <td>[{'id': 1055062, 'aisle': 'Meat', 'image': 'ch...</td>\n",
       "      <td>645753</td>\n",
       "      <td>Grilled Lemon Garlic Chicken</td>\n",
       "      <td>4</td>\n",
       "      <td>Grilled Lemon Garlic Chicken could be just the...</td>\n",
       "      <td>['lunch', 'main course', 'main dish', 'dinner']</td>\n",
       "      <td>[{'name': '', 'steps': [{'number': 1, 'step': ...</td>\n",
       "      <td>84.130028</td>\n",
       "      <td>9</td>\n",
       "    </tr>\n",
       "    <tr>\n",
       "      <th>7299</th>\n",
       "      <td>False</td>\n",
       "      <td>False</td>\n",
       "      <td>False</td>\n",
       "      <td>False</td>\n",
       "      <td>False</td>\n",
       "      <td>16</td>\n",
       "      <td>16</td>\n",
       "      <td>187.85</td>\n",
       "      <td>[{'id': 43274, 'aisle': 'Cheese', 'image': 'cr...</td>\n",
       "      <td>638074</td>\n",
       "      <td>Chicken Enchilada Salad Wraps</td>\n",
       "      <td>4</td>\n",
       "      <td>Chicken Enchilada Salad Wraps might be just th...</td>\n",
       "      <td>['side dish', 'lunch', 'main course', 'salad',...</td>\n",
       "      <td>[{'name': '', 'steps': [{'number': 1, 'step': ...</td>\n",
       "      <td>67.938194</td>\n",
       "      <td>0</td>\n",
       "    </tr>\n",
       "  </tbody>\n",
       "</table>\n",
       "<p>7300 rows × 17 columns</p>\n",
       "</div>"
      ],
      "text/plain": [
       "      vegetarian  glutenFree  ...  spoonacularScore  cluster\n",
       "0          False       False  ...         59.014149        0\n",
       "1          False       False  ...         60.525078        0\n",
       "2           True       False  ...         42.399120        4\n",
       "3          False       False  ...         51.477009        3\n",
       "4          False        True  ...         70.604698        9\n",
       "...          ...         ...  ...               ...      ...\n",
       "7295       False       False  ...         10.932211        4\n",
       "7296       False        True  ...         63.994400        5\n",
       "7297       False        True  ...         28.327370        6\n",
       "7298       False        True  ...         84.130028        9\n",
       "7299       False       False  ...         67.938194        0\n",
       "\n",
       "[7300 rows x 17 columns]"
      ]
     },
     "execution_count": 16,
     "metadata": {},
     "output_type": "execute_result"
    }
   ],
   "source": [
    "data['cluster']=clusters\n",
    "data"
   ]
  },
  {
   "cell_type": "markdown",
   "metadata": {},
   "source": [
    "# Save"
   ]
  },
  {
   "cell_type": "code",
   "execution_count": 17,
   "metadata": {},
   "outputs": [],
   "source": [
    "#now that I have my clusters, I save it in csv\n",
    "#data.to_csv('recipes_w_clusters.csv', index=False)"
   ]
  }
 ],
 "metadata": {
  "kernelspec": {
   "display_name": "Python 3 (ipykernel)",
   "language": "python",
   "name": "python3"
  },
  "language_info": {
   "codemirror_mode": {
    "name": "ipython",
    "version": 3
   },
   "file_extension": ".py",
   "mimetype": "text/x-python",
   "name": "python",
   "nbconvert_exporter": "python",
   "pygments_lexer": "ipython3",
   "version": "3.11.5"
  }
 },
 "nbformat": 4,
 "nbformat_minor": 4
}
