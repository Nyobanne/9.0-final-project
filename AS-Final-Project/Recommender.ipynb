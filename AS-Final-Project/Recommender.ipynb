{
 "cells": [
  {
   "cell_type": "markdown",
   "metadata": {},
   "source": [
    "# API food : recommender"
   ]
  },
  {
   "cell_type": "code",
   "execution_count": 2,
   "metadata": {},
   "outputs": [],
   "source": [
    "#import getpass\n",
    "import pandas as pd\n",
    "import requests\n",
    "from IPython.display import display"
   ]
  },
  {
   "cell_type": "markdown",
   "metadata": {},
   "source": [
    "### Recommender Proposal\n",
    "1. input : user types 1 or several ingredients\n",
    "2. output: app gives 10 proposal recipes\n",
    "3. input: user choses 1 recipe out of the 10 (e.g. \"risotto chicken\")\n",
    "4. output: model proposes a another similar recipe (\"if you liked 'chicken risotto' I recommend you try 'paprika pasta')\n",
    "    MODEL: recipe clustering based on nutrition , number of ingredient, number of steps, taste,  language processing ~"
   ]
  },
  {
   "cell_type": "markdown",
   "metadata": {},
   "source": [
    "# Get clustered data"
   ]
  },
  {
   "cell_type": "code",
   "execution_count": 3,
   "metadata": {},
   "outputs": [],
   "source": [
    "data=pd.read_csv('recipes_w_clusters.csv')"
   ]
  },
  {
   "cell_type": "markdown",
   "metadata": {},
   "source": [
    "# Recommender"
   ]
  },
  {
   "cell_type": "code",
   "execution_count": 4,
   "metadata": {},
   "outputs": [
    {
     "data": {
      "text/plain": [
       "'d3f78262728d464a98045ef32eff5060'"
      ]
     },
     "execution_count": 4,
     "metadata": {},
     "output_type": "execute_result"
    }
   ],
   "source": [
    "with open(\"spoonacular-api-key.txt\", \"r\") as file:\n",
    "        api_key = file.readline().split(':')[1].strip()\n",
    "api_key"
   ]
  },
  {
   "cell_type": "code",
   "execution_count": 8,
   "metadata": {},
   "outputs": [
    {
     "name": "stdin",
     "output_type": "stream",
     "text": [
      "Enter the ingredients in your fridge (comma-separated):  cilantro, pepper\n"
     ]
    },
    {
     "data": {
      "text/html": [
       "<div>\n",
       "<style scoped>\n",
       "    .dataframe tbody tr th:only-of-type {\n",
       "        vertical-align: middle;\n",
       "    }\n",
       "\n",
       "    .dataframe tbody tr th {\n",
       "        vertical-align: top;\n",
       "    }\n",
       "\n",
       "    .dataframe thead th {\n",
       "        text-align: right;\n",
       "    }\n",
       "</style>\n",
       "<table border=\"1\" class=\"dataframe\">\n",
       "  <thead>\n",
       "    <tr style=\"text-align: right;\">\n",
       "      <th></th>\n",
       "      <th>10 Recipes for you</th>\n",
       "      <th>You will need those additional ingredients</th>\n",
       "    </tr>\n",
       "  </thead>\n",
       "  <tbody>\n",
       "    <tr>\n",
       "      <th>0</th>\n",
       "      <td>Balti Chicken</td>\n",
       "      <td>boned and skinned chicken breast halves, rice,...</td>\n",
       "    </tr>\n",
       "    <tr>\n",
       "      <th>1</th>\n",
       "      <td>Lentil Mango Salad</td>\n",
       "      <td>lentils, garlic, mango, onion, white wine vinegar</td>\n",
       "    </tr>\n",
       "    <tr>\n",
       "      <th>2</th>\n",
       "      <td>Charred Corn and Pepper Salsa</td>\n",
       "      <td>ears of corn, limes, onion</td>\n",
       "    </tr>\n",
       "    <tr>\n",
       "      <th>3</th>\n",
       "      <td>Sweet Potato with Bacon and Poached Egg</td>\n",
       "      <td>bacon, egg, sweet potato</td>\n",
       "    </tr>\n",
       "    <tr>\n",
       "      <th>4</th>\n",
       "      <td>Beef Fajita Marinade</td>\n",
       "      <td>garlic, ground chipotle pepper, lime juice, li...</td>\n",
       "    </tr>\n",
       "    <tr>\n",
       "      <th>5</th>\n",
       "      <td>Crab Salad Stuffed Pita Pockets</td>\n",
       "      <td>apple, crabmeat, mayonnaise, wholewheat pita b...</td>\n",
       "    </tr>\n",
       "    <tr>\n",
       "      <th>6</th>\n",
       "      <td>Kickin’ Vegan Quesadillas</td>\n",
       "      <td>vegan tortillas - 10, vegetarian refried beans...</td>\n",
       "    </tr>\n",
       "    <tr>\n",
       "      <th>7</th>\n",
       "      <td>Mango Nectarine Salsa</td>\n",
       "      <td>nectarines, mango, lime, jalapeno, avocado</td>\n",
       "    </tr>\n",
       "    <tr>\n",
       "      <th>8</th>\n",
       "      <td>Steamed Clams In Wine and Chorizo</td>\n",
       "      <td>chorizo cut to, cumin seeds, wine, garlic clov...</td>\n",
       "    </tr>\n",
       "    <tr>\n",
       "      <th>9</th>\n",
       "      <td>Grilled Corn Side Salad</td>\n",
       "      <td>avocado, ears of corn, honey, jalapeno, juice ...</td>\n",
       "    </tr>\n",
       "  </tbody>\n",
       "</table>\n",
       "</div>"
      ],
      "text/plain": [
       "                        10 Recipes for you  \\\n",
       "0                            Balti Chicken   \n",
       "1                       Lentil Mango Salad   \n",
       "2            Charred Corn and Pepper Salsa   \n",
       "3  Sweet Potato with Bacon and Poached Egg   \n",
       "4                     Beef Fajita Marinade   \n",
       "5          Crab Salad Stuffed Pita Pockets   \n",
       "6                Kickin’ Vegan Quesadillas   \n",
       "7                    Mango Nectarine Salsa   \n",
       "8        Steamed Clams In Wine and Chorizo   \n",
       "9                  Grilled Corn Side Salad   \n",
       "\n",
       "          You will need those additional ingredients  \n",
       "0  boned and skinned chicken breast halves, rice,...  \n",
       "1  lentils, garlic, mango, onion, white wine vinegar  \n",
       "2                         ears of corn, limes, onion  \n",
       "3                           bacon, egg, sweet potato  \n",
       "4  garlic, ground chipotle pepper, lime juice, li...  \n",
       "5  apple, crabmeat, mayonnaise, wholewheat pita b...  \n",
       "6  vegan tortillas - 10, vegetarian refried beans...  \n",
       "7         nectarines, mango, lime, jalapeno, avocado  \n",
       "8  chorizo cut to, cumin seeds, wine, garlic clov...  \n",
       "9  avocado, ears of corn, honey, jalapeno, juice ...  "
      ]
     },
     "metadata": {},
     "output_type": "display_data"
    },
    {
     "name": "stdin",
     "output_type": "stream",
     "text": [
      "Which of those recipes do you prefer? Enter the recipe title:  Charred Corn and Pepper Salsa\n"
     ]
    },
    {
     "name": "stdout",
     "output_type": "stream",
     "text": [
      "Excellent choice!\n"
     ]
    }
   ],
   "source": [
    "\n",
    "# Read Spoonacular API Key from file\n",
    "with open(\"spoonacular-api-key.txt\", \"r\") as file:\n",
    "        api_key = file.readline().split(':')[1].strip()\n",
    "        \n",
    "# Define the endpoint you want to access (for example, ingredient search)\n",
    "endpoint = 'https://api.spoonacular.com/recipes/findByIngredients'\n",
    "\n",
    "# Get the list of ingredients from the user\n",
    "user_input = input(\"Enter the ingredients in your fridge (comma-separated): \")\n",
    "fridge_contents = user_input.split(',')\n",
    "\n",
    "# Define parameters for the request\n",
    "params = {\n",
    "    'ingredients': ','.join(fridge_contents),  # Convert list to comma-separated string\n",
    "    'apiKey': api_key\n",
    "}\n",
    "\n",
    "# GET request to API\n",
    "response = requests.get(endpoint, params=params)\n",
    "\n",
    "# Check if the request was successful (status code 200)\n",
    "if response.status_code == 200:\n",
    "    # Extract the data from the response (in JSON format)\n",
    "    recipes = response.json()\n",
    "    # Convert the recipe data to a DataFrame\n",
    "    recipe_data = []\n",
    "    for recipe in recipes:\n",
    "        recipe_data.append({\n",
    "            '10 Recipes for you': recipe['title'],\n",
    "            'You will need those additional ingredients': ', '.join([ingredient['name'] for ingredient in recipe['missedIngredients']])\n",
    "        })\n",
    "    recipes_df = pd.DataFrame(recipe_data)\n",
    "    display(recipes_df)\n",
    "## Prompt the user to select a preferred recipe\n",
    "    selected_recipe_title = input(\"Which of those recipes do you prefer? Enter the recipe title: \")\n",
    "    \n",
    "## Search for the selected recipe in the 'data' DataFrame\n",
    "    selected_recipe = data[data['title'] == selected_recipe_title].head(1)\n",
    "    #display(selected_recipe)\n",
    "    if len(selected_recipe) > 0:\n",
    "        # Display the details of the selected recipe\n",
    "        print(\"\\nHere are some FYI details for this recipe:\")\n",
    "        for index, row in selected_recipe.iterrows():\n",
    "            print(f\"Your prefered recipe: {row['title']}\")\n",
    "            print(f\"Health Score (out of 100): {row['healthScore']}\")\n",
    "            print(f\"Price Per Serving: ${row['pricePerServing']}\")\n",
    "            #print(f\"Summary: {row['summary']}\")\n",
    "## Suggest another recipe from the model\n",
    "         # Get the cluster number of the selected recipe\n",
    "        selected_cluster = selected_recipe.iloc[0]['cluster']\n",
    "        \n",
    "        # Filter data for recipes in the same cluster as the selected recipe\n",
    "        cluster_recipes = data[data['cluster'] == selected_cluster]\n",
    "    \n",
    "        # Remove the selected recipe from the cluster if it exists\n",
    "        cluster_recipes = cluster_recipes[cluster_recipes['title'] != selected_recipe_title]\n",
    "    \n",
    "        # Choose a random recipe from the same cluster\n",
    "        if len(cluster_recipes) > 0:\n",
    "            random_recommendation = cluster_recipes.sample(1)\n",
    "            print(\"\\nGiven your fine taste, may I suggest:\")\n",
    "            print(f\"a recipe you may like: {random_recommendation['title'].iloc[0]}\")\n",
    "            print(f\"Health Score: {random_recommendation['healthScore'].iloc[0]}\")\n",
    "            print(f\"Price Per Serving: ${random_recommendation['pricePerServing'].iloc[0]}\")\n",
    "            #print(f\"Summary: {random_recommendation['summary'].iloc[0]}\")\n",
    "        else:\n",
    "            print(\"Excellent choice.\")\n",
    "    else:\n",
    "        print(\"Excellent choice!\")\n",
    "\n",
    "\n",
    "else:\n",
    "    # Print an error message if the request was not successful\n",
    "    print('Error:', response.status_code)"
   ]
  },
  {
   "cell_type": "code",
   "execution_count": null,
   "metadata": {},
   "outputs": [],
   "source": [
    "#import getpass\n",
    "#apikey = getpass.getpass() \n",
    "#enter password which is 'd3f78262728d464a98045ef32eff5060'"
   ]
  },
  {
   "cell_type": "code",
   "execution_count": 48,
   "metadata": {},
   "outputs": [],
   "source": [
    "def get_recipe_id(recipe_title):\n",
    "    endpoint = 'https://api.spoonacular.com/recipes/complexSearch'\n",
    "    params = {\n",
    "        'apiKey': api_key,\n",
    "        'query': recipe_title\n",
    "    }\n",
    "    response = requests.get(endpoint, params=params)\n",
    "    if response.status_code == 200:\n",
    "        results = response.json()\n",
    "        if results:\n",
    "            return results['results'][0]['id']  # the first recipe is the one we want\n",
    "    return None\n",
    "\n",
    "def get_recipe_instructions(recipe_title):\n",
    "    recipe_id = get_recipe_id(recipe_title)\n",
    "    if recipe_id:\n",
    "        endpoint = f'https://api.spoonacular.com/recipes/{recipe_id}/information'\n",
    "        params = {\n",
    "            'apiKey': api_key\n",
    "        }\n",
    "        response = requests.get(endpoint, params=params)\n",
    "        \n",
    "        if response.status_code == 200:\n",
    "            recipe_info = response.json()\n",
    "            return recipe_info.get('instructions', 'Instructions not available.')\n",
    "            return recipe_info\n",
    "    return \"Mamma mia! I cannot find my cookbook for this one.\"\n",
    "    "
   ]
  },
  {
   "cell_type": "code",
   "execution_count": 49,
   "metadata": {},
   "outputs": [
    {
     "data": {
      "text/plain": [
       "'<ol><li>In a medium bowl combine all ingredients (except raw vegetables for dipping). Cover and refrigerate until ready to serve. Serve as a dip for raw vegetables. Makes approximately 3 cups.</li></ol>'"
      ]
     },
     "execution_count": 49,
     "metadata": {},
     "output_type": "execute_result"
    }
   ],
   "source": [
    "get_recipe_instructions('Vegetable Dip')"
   ]
  },
  {
   "cell_type": "code",
   "execution_count": 46,
   "metadata": {},
   "outputs": [
    {
     "data": {
      "text/plain": [
       "664547"
      ]
     },
     "execution_count": 46,
     "metadata": {},
     "output_type": "execute_result"
    }
   ],
   "source": [
    "get_recipe_id('Vegetable Dip')"
   ]
  },
  {
   "cell_type": "code",
   "execution_count": 25,
   "metadata": {},
   "outputs": [
    {
     "data": {
      "text/plain": [
       "int"
      ]
     },
     "execution_count": 25,
     "metadata": {},
     "output_type": "execute_result"
    }
   ],
   "source": [
    "type(get_recipe_id('Vegetable Dip'))"
   ]
  },
  {
   "cell_type": "code",
   "execution_count": null,
   "metadata": {},
   "outputs": [],
   "source": [
    "# TRIAL 1\n",
    "import numpy as np\n",
    "import pandas as pd\n",
    "import streamlit as st\n",
    "from PIL import Image\n",
    "# Import file\n",
    "data=pd.read_csv('recipes_w_clusters.csv')\n",
    "# Import user modules\n",
    "#from functions import cleanOperation, cleankSymbol, cleanDuration, preprocess\n",
    "from IPython.display import display\n",
    "from getpass import getpass\n",
    "\n",
    "def print_recipe_details(recipe_title):\n",
    "    # Ideally, replace this function with your logic to fetch details about the selected recipe\n",
    "    print(\"Functionality to print recipe details is not implemented yet.\")\n",
    "\n",
    "def suggest_recipes():\n",
    "    with open(\"spoonacular-api-key.txt\", \"r\") as file:\n",
    "        api_key = file.readline().split(':')[1].strip()\n",
    "    endpoint = 'https://api.spoonacular.com/recipes/findByIngredients'\n",
    "\n",
    "    # Get the list of ingredients from the user\n",
    "    user_input = input(\"Enter the ingredients in your fridge (comma-separated): \")\n",
    "    fridge_contents = user_input.split(',')\n",
    "\n",
    "    # Define parameters for the request\n",
    "    params = {\n",
    "        'ingredients': ','.join(fridge_contents),\n",
    "        'apiKey': api_key\n",
    "    }\n",
    "\n",
    "    # GET request to API\n",
    "    response = requests.get(endpoint, params=params)\n",
    "\n",
    "    # Check if the request was successful (status code 200)\n",
    "    if response.status_code == 200:\n",
    "        # Extract the data from the response (in JSON format)\n",
    "        recipes = response.json()\n",
    "        # Convert the recipe data to a DataFrame\n",
    "        recipe_data = []\n",
    "        for recipe in recipes:\n",
    "            recipe_data.append({\n",
    "                '10 Recipes for you': recipe['title'],\n",
    "                'You will need those additional ingredients': ', '.join([ingredient['name'] for ingredient in recipe['missedIngredients']])\n",
    "            })\n",
    "        recipes_df = pd.DataFrame(recipe_data)\n",
    "        display(recipes_df)\n",
    "\n",
    "        # Prompt the user to select a preferred recipe\n",
    "        selected_recipe_title = input(\"Which of those recipes do you prefer? Enter the recipe title: \")\n",
    "\n",
    "        # Suggest another recipe from the model\n",
    "        print(\"\\nHere are some FYI details for this recipe:\")\n",
    "        print_recipe_details(selected_recipe_title)\n",
    "\n",
    "    else:\n",
    "        # Print an error message if the request was not successful\n",
    "        print('Error:', response.status_code)\n",
    "\n",
    "\n",
    "\n",
    "# Example usage:\n",
    "#api_key = 'd3f78262728d464a98045ef32eff5060'\n",
    "#suggest_recipes(api_key)\n"
   ]
  },
  {
   "cell_type": "code",
   "execution_count": null,
   "metadata": {},
   "outputs": [],
   "source": [
    "# TRIAL 2\n",
    "# Import file\n",
    "data=pd.read_csv('recipes_w_clusters.csv')\n",
    "# Import user modules\n",
    "#from functions import cleanOperation, cleankSymbol, cleanDuration, preprocess\n",
    "from IPython.display import display\n",
    "\n",
    "def print_recipe_details(recipe_title):\n",
    "    # Ideally, replace this function with your logic to fetch details about the selected recipe\n",
    "        #display(selected_recipe)\n",
    "    selected_recipe = data[data['title'] == recipe_title].head(1)\n",
    "    if len(selected_recipe) > 0:\n",
    "        # Display the details of the selected recipe\n",
    "        print(\"\\nBelow are some details about this recipe (but who cares about health anyway):\")\n",
    "        for index, row in selected_recipe.iterrows():\n",
    "            st.write(row['title'])\n",
    "            st.write(f\"Health Score (out of 100): {row['healthScore']}\")\n",
    "            st.write(f\"Price Per Serving: ${row['pricePerServing']}\")\n",
    "            \n",
    "    else: st.write(\"Mamma mia! I cannot find my cookbook for this one\")\n",
    "    \n",
    "def suggest_recipes():\n",
    "    with open(\"spoonacular-api-key.txt\", \"r\") as file:\n",
    "        api_key = file.readline().split(':')[1].strip()\n",
    "    endpoint = 'https://api.spoonacular.com/recipes/findByIngredients'\n",
    "\n",
    "    # Get the list of ingredients from the user\n",
    "    user_input = st.text_input(\"1. Enter the ingredients in your fridge or pantry (comma-separated): \")\n",
    "    fridge_contents = user_input.split(',') if user_input else []\n",
    "\n",
    "    # Define parameters for the request\n",
    "    params = {\n",
    "        'ingredients': ','.join(fridge_contents),\n",
    "        'apiKey': api_key\n",
    "    }\n",
    "\n",
    "    response = requests.get(endpoint, params=params)\n",
    "\n",
    "    # if request works\n",
    "    if response.status_code == 200:\n",
    "        # Extract the data from the response (in JSON format)\n",
    "        recipes = response.json()\n",
    "        # Convert the recipe data to a DataFrame\n",
    "        recipe_data = []\n",
    "        for recipe in recipes:\n",
    "            recipe_data.append({\n",
    "                'RECIPES! Here is my TOP 10 including your ingredients': recipe['title'],\n",
    "                'INGREDIENTS: You will need to add those': ', '.join([ingredient['name'] for ingredient in recipe['missedIngredients']])\n",
    "            })\n",
    "        recipes_df = pd.DataFrame(recipe_data)\n",
    "        st.write(recipes_df)\n",
    "\n",
    "    #### Prompt the user to select a preferred recipe\n",
    "        selected_recipe_title = st.text_input(\"2. Which of those recipes do you prefer? Copy-paste your favorite recipe title (case sensitive): \")\n",
    "        selected_recipe = data[data['title'] == selected_recipe_title].head(1)\n",
    "        \n",
    "        print_recipe_details(selected_recipe_title)\n",
    "        \n",
    "        if len(selected_recipe) > 0:\n",
    "            st.write(\"\\nHere are some FYI details for this recipe:\")\n",
    "            print_recipe_details(selected_recipe_title)\n",
    "        \n",
    "            \n",
    "### Suggest another recipe from the model\n",
    "        \n",
    "        # Get cluster number of the selected recipe\n",
    "            selected_cluster = selected_recipe.iloc[0]['cluster']\n",
    "            # Filter data for recipes in the same cluster as the selected recipe\n",
    "            cluster_recipes = data[data['cluster'] == selected_cluster]\n",
    "        \n",
    "            # Remove the selected recipe from the cluster if it exists\n",
    "            cluster_recipes = cluster_recipes[cluster_recipes['title'] != selected_recipe_title]\n",
    "           # Choose a random recipe from the same cluster\n",
    "            random_recommendation = cluster_recipes.sample(1)\n",
    "            st.write(\"\\nGiven your fine taste, may I risk a suggestion:\", random_recommendation['title'].iloc[0])\n",
    "            print_recipe_details(random_recommendation['title'].iloc[0])\n",
    "            \n",
    "        else:st.write(\"\\nExcellent choice !\")\n",
    "        \n",
    "    else:\n",
    "        # Print an error message if the request was not successful\n",
    "        st.write('Error:', response.status_code)\n",
    "\n",
    "# Run the app\n",
    "if __name__ == '__main__':\n",
    "    suggest_recipes()"
   ]
  },
  {
   "cell_type": "code",
   "execution_count": null,
   "metadata": {},
   "outputs": [],
   "source": []
  },
  {
   "cell_type": "code",
   "execution_count": null,
   "metadata": {},
   "outputs": [],
   "source": []
  },
  {
   "cell_type": "code",
   "execution_count": null,
   "metadata": {},
   "outputs": [],
   "source": []
  },
  {
   "cell_type": "code",
   "execution_count": null,
   "metadata": {},
   "outputs": [],
   "source": []
  },
  {
   "cell_type": "code",
   "execution_count": null,
   "metadata": {},
   "outputs": [],
   "source": []
  },
  {
   "cell_type": "code",
   "execution_count": null,
   "metadata": {},
   "outputs": [],
   "source": []
  }
 ],
 "metadata": {
  "kernelspec": {
   "display_name": "Python 3 (ipykernel)",
   "language": "python",
   "name": "python3"
  },
  "language_info": {
   "codemirror_mode": {
    "name": "ipython",
    "version": 3
   },
   "file_extension": ".py",
   "mimetype": "text/x-python",
   "name": "python",
   "nbconvert_exporter": "python",
   "pygments_lexer": "ipython3",
   "version": "3.11.5"
  }
 },
 "nbformat": 4,
 "nbformat_minor": 4
}
